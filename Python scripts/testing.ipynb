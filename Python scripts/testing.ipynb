{
 "cells": [
  {
   "cell_type": "code",
   "execution_count": 1,
   "metadata": {},
   "outputs": [],
   "source": [
    "from IDoCT_model import *"
   ]
  },
  {
   "cell_type": "code",
   "execution_count": null,
   "metadata": {},
   "outputs": [],
   "source": []
  },
  {
   "cell_type": "code",
   "execution_count": null,
   "metadata": {},
   "outputs": [
    {
     "name": "stdout",
     "output_type": "stream",
     "text": [
      "Done with control pre-proc\n",
      "Model has been successfully applied to IC3_Orientation\n"
     ]
    },
    {
     "name": "stderr",
     "output_type": "stream",
     "text": [
      "/Users/dg519/Documents/idoct_stroke_github/master/Python scripts/IDoCT_model.py:342: RuntimeWarning: All-NaN slice encountered\n",
      "  dt_0 = np.nanmin(rt_mat, axis = 1)\n",
      "/Users/dg519/Documents/idoct_stroke_github/master/Python scripts/IDoCT_model.py:355: RuntimeWarning: Mean of empty slice\n",
      "  dt_newm = np.nanmean(dt_new, axis = 1)\n",
      "/Users/dg519/Documents/idoct_stroke_github/master/Python scripts/IDoCT_model.py:355: RuntimeWarning: Mean of empty slice\n",
      "  dt_newm = np.nanmean(dt_new, axis = 1)\n",
      "/Users/dg519/Documents/idoct_stroke_github/master/Python scripts/IDoCT_model.py:362: RuntimeWarning: invalid value encountered in divide\n",
      "  d_ab = np.abs(true_ability - abilities_0) / abilities_0\n",
      "/Users/dg519/Documents/idoct_stroke_github/master/Python scripts/IDoCT_model.py:355: RuntimeWarning: Mean of empty slice\n",
      "  dt_newm = np.nanmean(dt_new, axis = 1)\n",
      "/Users/dg519/Documents/idoct_stroke_github/master/Python scripts/IDoCT_model.py:362: RuntimeWarning: invalid value encountered in divide\n",
      "  d_ab = np.abs(true_ability - abilities_0) / abilities_0\n",
      "/Users/dg519/Documents/idoct_stroke_github/master/Python scripts/IDoCT_model.py:355: RuntimeWarning: Mean of empty slice\n",
      "  dt_newm = np.nanmean(dt_new, axis = 1)\n",
      "/Users/dg519/Documents/idoct_stroke_github/master/Python scripts/IDoCT_model.py:362: RuntimeWarning: invalid value encountered in divide\n",
      "  d_ab = np.abs(true_ability - abilities_0) / abilities_0\n",
      "/Users/dg519/Documents/idoct_stroke_github/master/Python scripts/IDoCT_model.py:355: RuntimeWarning: Mean of empty slice\n",
      "  dt_newm = np.nanmean(dt_new, axis = 1)\n",
      "/Users/dg519/Documents/idoct_stroke_github/master/Python scripts/IDoCT_model.py:362: RuntimeWarning: invalid value encountered in divide\n",
      "  d_ab = np.abs(true_ability - abilities_0) / abilities_0\n",
      "/Users/dg519/Documents/idoct_stroke_github/master/Python scripts/IDoCT_model.py:355: RuntimeWarning: Mean of empty slice\n",
      "  dt_newm = np.nanmean(dt_new, axis = 1)\n",
      "/Users/dg519/Documents/idoct_stroke_github/master/Python scripts/IDoCT_model.py:362: RuntimeWarning: invalid value encountered in divide\n",
      "  d_ab = np.abs(true_ability - abilities_0) / abilities_0\n",
      "/Users/dg519/Documents/idoct_stroke_github/master/Python scripts/IDoCT_model.py:355: RuntimeWarning: Mean of empty slice\n",
      "  dt_newm = np.nanmean(dt_new, axis = 1)\n",
      "/Users/dg519/Documents/idoct_stroke_github/master/Python scripts/IDoCT_model.py:362: RuntimeWarning: invalid value encountered in divide\n",
      "  d_ab = np.abs(true_ability - abilities_0) / abilities_0\n",
      "/Users/dg519/Documents/idoct_stroke_github/master/Python scripts/IDoCT_model.py:355: RuntimeWarning: Mean of empty slice\n",
      "  dt_newm = np.nanmean(dt_new, axis = 1)\n",
      "/Users/dg519/Documents/idoct_stroke_github/master/Python scripts/IDoCT_model.py:362: RuntimeWarning: invalid value encountered in divide\n",
      "  d_ab = np.abs(true_ability - abilities_0) / abilities_0\n",
      "/Users/dg519/Documents/idoct_stroke_github/master/Python scripts/IDoCT_model.py:355: RuntimeWarning: Mean of empty slice\n",
      "  dt_newm = np.nanmean(dt_new, axis = 1)\n",
      "/Users/dg519/Documents/idoct_stroke_github/master/Python scripts/IDoCT_model.py:362: RuntimeWarning: invalid value encountered in divide\n",
      "  d_ab = np.abs(true_ability - abilities_0) / abilities_0\n",
      "/Users/dg519/Documents/idoct_stroke_github/master/Python scripts/IDoCT_model.py:355: RuntimeWarning: Mean of empty slice\n",
      "  dt_newm = np.nanmean(dt_new, axis = 1)\n",
      "/Users/dg519/Documents/idoct_stroke_github/master/Python scripts/IDoCT_model.py:362: RuntimeWarning: invalid value encountered in divide\n",
      "  d_ab = np.abs(true_ability - abilities_0) / abilities_0\n",
      "/Library/Frameworks/Python.framework/Versions/3.10/lib/python3.10/site-packages/numpy/lib/nanfunctions.py:1217: RuntimeWarning: All-NaN slice encountered\n",
      "  r, k = function_base._ureduce(a, func=_nanmedian, axis=axis, out=out,\n",
      "/Users/dg519/Documents/idoct_stroke_github/master/Python scripts/IDoCT_model.py:371: RuntimeWarning: Mean of empty slice\n",
      "  df = pd.DataFrame({\"user_id\" : user_ids, \"AS\": pa_ability,\"DT\": dt_newm, 'MedianRT':np.nanmedian(df_rt, axis = 1), 'MeanRT':np.nanmean(df_rt, axis = 1), 'Accuracy': np.nansum(df_acc, axis = 1)}, index = df_trialdef.index)\n"
     ]
    }
   ],
   "source": [
    "root_path_controls = '/Users/dg519/Documents/idoct_stroke_paper/data/controls/'\n",
    "root_path_patients = '/Users/dg519/Documents/idoct_stroke_paper/data/patients/'\n",
    "task_names = ['IC3_Orientation']\n",
    "\n",
    "main(root_path_controls, root_path_patients, file_names)\n"
   ]
  },
  {
   "cell_type": "code",
   "execution_count": 1,
   "metadata": {},
   "outputs": [],
   "source": [
    "import IDoCT_model"
   ]
  },
  {
   "cell_type": "code",
   "execution_count": null,
   "metadata": {},
   "outputs": [],
   "source": [
    "def main(root_path_controls, root_path_patients, file_names):\n",
    "    \n",
    "    IDoCT_model.main_wrapper(root_path_controls, root_path_patients, file_names)\n",
    "    \n",
    "    \n",
    "    "
   ]
  }
 ],
 "metadata": {
  "kernelspec": {
   "display_name": "Python 3",
   "language": "python",
   "name": "python3"
  },
  "language_info": {
   "codemirror_mode": {
    "name": "ipython",
    "version": 3
   },
   "file_extension": ".py",
   "mimetype": "text/x-python",
   "name": "python",
   "nbconvert_exporter": "python",
   "pygments_lexer": "ipython3",
   "version": "3.10.5"
  }
 },
 "nbformat": 4,
 "nbformat_minor": 2
}
